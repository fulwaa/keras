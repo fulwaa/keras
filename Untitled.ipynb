{
 "cells": [
  {
   "cell_type": "code",
   "execution_count": 43,
   "id": "88f9b21c",
   "metadata": {},
   "outputs": [],
   "source": [
    "import keras \n",
    "from keras.models import Sequential\n",
    "from keras.layers import Dense\n",
    "from keras.utils import to_categorical"
   ]
  },
  {
   "cell_type": "code",
   "execution_count": 44,
   "id": "768f63d2",
   "metadata": {},
   "outputs": [],
   "source": [
    "from keras.layers import Conv2D\n",
    "from keras.layers import MaxPooling2D\n",
    "from keras.layers import Flatten\n"
   ]
  },
  {
   "cell_type": "code",
   "execution_count": 45,
   "id": "c326e3ca",
   "metadata": {},
   "outputs": [],
   "source": [
    "from keras.datasets import mnist"
   ]
  },
  {
   "cell_type": "code",
   "execution_count": null,
   "id": "b6bf7d85",
   "metadata": {},
   "outputs": [],
   "source": []
  },
  {
   "cell_type": "code",
   "execution_count": 6,
   "id": "cbca9c69",
   "metadata": {},
   "outputs": [
    {
     "name": "stdout",
     "output_type": "stream",
     "text": [
      "Requirement already satisfied: keras in c:\\users\\dell\\anaconda3\\lib\\site-packages (2.13.1)\n",
      "Note: you may need to restart the kernel to use updated packages.\n"
     ]
    }
   ],
   "source": [
    "# pip install keras"
   ]
  },
  {
   "cell_type": "code",
   "execution_count": 46,
   "id": "3940d043",
   "metadata": {},
   "outputs": [],
   "source": [
    "(x_train,y_train),(x_test,y_test) = mnist.load_data()"
   ]
  },
  {
   "cell_type": "code",
   "execution_count": 47,
   "id": "ba1cc49f",
   "metadata": {},
   "outputs": [],
   "source": [
    "x_train = x_train.reshape(x_train.shape[0],28,28,1).astype('float32')\n",
    "x_test = x_test.reshape(x_test.shape[0],28,28,1).astype('float32')"
   ]
  },
  {
   "cell_type": "code",
   "execution_count": 48,
   "id": "5aba86b6",
   "metadata": {},
   "outputs": [],
   "source": [
    "x_train = x_train/255\n",
    "x_test = x_test/255"
   ]
  },
  {
   "cell_type": "code",
   "execution_count": 49,
   "id": "c11f2b35",
   "metadata": {},
   "outputs": [],
   "source": [
    "y_train = to_categorical(y_train)\n",
    "y_test = to_categorical(y_test)"
   ]
  },
  {
   "cell_type": "code",
   "execution_count": 50,
   "id": "dd4eb718",
   "metadata": {},
   "outputs": [],
   "source": [
    "num_classes = y_test.shape[1]"
   ]
  },
  {
   "cell_type": "code",
   "execution_count": 51,
   "id": "0a7581ab",
   "metadata": {},
   "outputs": [],
   "source": [
    "def convolutional_model():\n",
    "    model = Sequential()\n",
    "    model.add(Conv2D(16,(5,5),strides=(1,1),activation = 'relu' , input_shape=(28,28,1)))\n",
    "    model.add(MaxPooling2D(pool_size=(2,2),strides =(2,2)))\n",
    "    model.add(Flatten())\n",
    "    model.add(Dense(100,activation='relu'))\n",
    "    model.add(Dense(num_classes,activation = 'softmax'))\n",
    "    model.compile(optimizer='adam',loss='categorical_crossentropy',metrics=['accuracy'])\n",
    "    return model"
   ]
  },
  {
   "cell_type": "code",
   "execution_count": 52,
   "id": "6d8260af",
   "metadata": {},
   "outputs": [],
   "source": [
    "model = convolutional_model()"
   ]
  },
  {
   "cell_type": "code",
   "execution_count": 53,
   "id": "204e74a2",
   "metadata": {},
   "outputs": [
    {
     "name": "stdout",
     "output_type": "stream",
     "text": [
      "Epoch 1/10\n",
      "300/300 - 19s - loss: 0.2850 - accuracy: 0.9272 - val_loss: 0.0950 - val_accuracy: 0.9715 - 19s/epoch - 64ms/step\n",
      "Epoch 2/10\n",
      "300/300 - 16s - loss: 0.0783 - accuracy: 0.9769 - val_loss: 0.0673 - val_accuracy: 0.9784 - 16s/epoch - 54ms/step\n",
      "Epoch 3/10\n",
      "300/300 - 16s - loss: 0.0536 - accuracy: 0.9838 - val_loss: 0.0487 - val_accuracy: 0.9835 - 16s/epoch - 54ms/step\n",
      "Epoch 4/10\n",
      "300/300 - 14s - loss: 0.0420 - accuracy: 0.9877 - val_loss: 0.0453 - val_accuracy: 0.9861 - 14s/epoch - 47ms/step\n",
      "Epoch 5/10\n",
      "300/300 - 14s - loss: 0.0328 - accuracy: 0.9901 - val_loss: 0.0446 - val_accuracy: 0.9854 - 14s/epoch - 48ms/step\n",
      "Epoch 6/10\n",
      "300/300 - 14s - loss: 0.0268 - accuracy: 0.9920 - val_loss: 0.0419 - val_accuracy: 0.9859 - 14s/epoch - 48ms/step\n",
      "Epoch 7/10\n",
      "300/300 - 14s - loss: 0.0226 - accuracy: 0.9931 - val_loss: 0.0374 - val_accuracy: 0.9877 - 14s/epoch - 47ms/step\n",
      "Epoch 8/10\n",
      "300/300 - 14s - loss: 0.0188 - accuracy: 0.9941 - val_loss: 0.0356 - val_accuracy: 0.9884 - 14s/epoch - 48ms/step\n",
      "Epoch 9/10\n",
      "300/300 - 14s - loss: 0.0149 - accuracy: 0.9957 - val_loss: 0.0399 - val_accuracy: 0.9865 - 14s/epoch - 47ms/step\n",
      "Epoch 10/10\n",
      "300/300 - 14s - loss: 0.0113 - accuracy: 0.9968 - val_loss: 0.0460 - val_accuracy: 0.9870 - 14s/epoch - 47ms/step\n"
     ]
    },
    {
     "data": {
      "text/plain": [
       "<keras.src.callbacks.History at 0x12f801f4810>"
      ]
     },
     "execution_count": 53,
     "metadata": {},
     "output_type": "execute_result"
    }
   ],
   "source": [
    "model.fit(x_train,y_train,validation_data= (x_test,y_test),epochs=10,batch_size = 200, verbose=2)"
   ]
  },
  {
   "cell_type": "code",
   "execution_count": 55,
   "id": "3b2248c7",
   "metadata": {},
   "outputs": [],
   "source": [
    "scores = model.evaluate(x_test,y_test,verbose=0)"
   ]
  },
  {
   "cell_type": "code",
   "execution_count": null,
   "id": "d08e31b9",
   "metadata": {},
   "outputs": [],
   "source": [
    "print('accuracy',scores)"
   ]
  }
 ],
 "metadata": {
  "kernelspec": {
   "display_name": "Python 3 (ipykernel)",
   "language": "python",
   "name": "python3"
  },
  "language_info": {
   "codemirror_mode": {
    "name": "ipython",
    "version": 3
   },
   "file_extension": ".py",
   "mimetype": "text/x-python",
   "name": "python",
   "nbconvert_exporter": "python",
   "pygments_lexer": "ipython3",
   "version": "3.11.3"
  }
 },
 "nbformat": 4,
 "nbformat_minor": 5
}
